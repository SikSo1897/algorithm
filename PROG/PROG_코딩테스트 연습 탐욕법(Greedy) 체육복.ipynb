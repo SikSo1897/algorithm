{
 "cells": [
  {
   "cell_type": "code",
   "execution_count": null,
   "metadata": {},
   "outputs": [],
   "source": [
    "코딩테스트 연습\n",
    "탐욕법(Greedy)\n",
    "체육복\n",
    "https://programmers.co.kr/learn/courses/30/lessons/42862"
   ]
  },
  {
   "cell_type": "code",
   "execution_count": null,
   "metadata": {},
   "outputs": [],
   "source": [
    "def solution(n, lost, reserve):\n",
    "    \n",
    "    answer = 0\n",
    "    \n",
    "    nReserve = [noble for noble in sorted(reserve) if noble not in lost]\n",
    "    nLost = [slave for slave in sorted(lost) if slave not in reserve]\n",
    "    \n",
    "    answer += n - len(nLost)\n",
    "    \n",
    "    for i in nReserve:\n",
    "        if i - 1 in nLost:\n",
    "            nLost.remove(i - 1)\n",
    "            answer +=1\n",
    "        elif i + 1 in nLost:\n",
    "            nLost.remove(i + 1)\n",
    "            answer += 1\n",
    "            \n",
    "    return answer"
   ]
  }
 ],
 "metadata": {
  "language_info": {
   "name": "python"
  },
  "orig_nbformat": 4
 },
 "nbformat": 4,
 "nbformat_minor": 2
}
