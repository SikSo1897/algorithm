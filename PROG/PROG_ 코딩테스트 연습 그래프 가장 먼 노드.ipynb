{
 "cells": [
  {
   "cell_type": "code",
   "execution_count": null,
   "metadata": {},
   "outputs": [],
   "source": [
    "from collections import defaultdict\n",
    "\n",
    "def solution(n, edge):\n",
    "    answer = 0\n",
    "    \n",
    "    graph = defaultdict(set)\n",
    "    temp = defaultdict(set)\n",
    "    \n",
    "    q = []\n",
    "    visit = [ False for _ in range(n+1) ]\n",
    "    \n",
    "    for start, end in edge:\n",
    "        graph[start].add(end)\n",
    "        graph[end].add(start)\n",
    "    \n",
    "    q.append((1, 0))\n",
    "    visit[1] = True\n",
    "    \n",
    "    temp[0].add(1)\n",
    "    \n",
    "    while q:\n",
    "        node, depth = q.pop(0)\n",
    "                        \n",
    "        for _node in graph[node]:\n",
    "             if not visit[_node]:\n",
    "                    q.append((_node, depth+1))\n",
    "                    temp[depth+1].add(_node)\n",
    "                    visit[_node] = True\n",
    "    \n",
    "    answer = len(temp[max(temp.keys())])\n",
    "        \n",
    "    return answer"
   ]
  }
 ],
 "metadata": {
  "language_info": {
   "name": "python"
  },
  "orig_nbformat": 4
 },
 "nbformat": 4,
 "nbformat_minor": 2
}
