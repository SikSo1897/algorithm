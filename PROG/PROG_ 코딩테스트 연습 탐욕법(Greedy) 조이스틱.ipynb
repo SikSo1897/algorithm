{
 "cells": [
  {
   "cell_type": "code",
   "execution_count": null,
   "metadata": {},
   "outputs": [],
   "source": [
    "def recur(lst, curr, move, left=False, right=False):\n",
    "    global checker, cases\n",
    "    \n",
    "    new_list = list(lst)\n",
    "    curr = curr % len(new_list)\n",
    "    \n",
    "    if lst == checker:\n",
    "        cases.append(move) \n",
    "        return\n",
    "    \n",
    "    if left:\n",
    "        while new_list[curr] == 0:\n",
    "            move += 1\n",
    "            curr = (curr + 1) % len(new_list)\n",
    "                \n",
    "    elif right:\n",
    "        while new_list[curr] == 0:\n",
    "            move += 1\n",
    "            curr = (curr - 1) % len(new_list)\n",
    "    else:\n",
    "        return\n",
    "    \n",
    "    new_list[curr] = 0    \n",
    "    recur(new_list, curr, move, right=True)\n",
    "    recur(new_list, curr, move, left=True)\n",
    "    \n",
    "def solution(name):\n",
    "    global checker, cases\n",
    "    answer=0\n",
    "    \n",
    "    lst = [ min(c-ord(\"A\"), (ord(\"Z\")-c)+1)  for c in map(ord, name)]\n",
    "    cases=[]\n",
    "    checker = [0] * len(lst)\n",
    "    alpha = sum(lst)\n",
    "    \n",
    "    recur(lst, curr=0, move=0, left=True, right=False)\n",
    "    recur(lst, curr=0, move=0, left=False, right=True)\n",
    "    \n",
    "    answer = alpha + min(cases)\n",
    "    \n",
    "        \n",
    "    return answer\n",
    "\n"
   ]
  }
 ],
 "metadata": {
  "kernelspec": {
   "display_name": "Python 3 (ipykernel)",
   "language": "python",
   "name": "python3"
  },
  "language_info": {
   "codemirror_mode": {
    "name": "ipython",
    "version": 3
   },
   "file_extension": ".py",
   "mimetype": "text/x-python",
   "name": "python",
   "nbconvert_exporter": "python",
   "pygments_lexer": "ipython3",
   "version": "3.9.10"
  },
  "orig_nbformat": 4
 },
 "nbformat": 4,
 "nbformat_minor": 2
}
