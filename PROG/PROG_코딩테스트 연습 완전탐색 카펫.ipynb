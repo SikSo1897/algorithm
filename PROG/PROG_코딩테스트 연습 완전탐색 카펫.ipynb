{
 "cells": [
  {
   "cell_type": "markdown",
   "metadata": {},
   "source": [
    "코딩테스트 연습\n",
    "완전탐색\n",
    "카펫\n",
    "https://programmers.co.kr/learn/courses/30/lessons/42842"
   ]
  },
  {
   "cell_type": "code",
   "execution_count": null,
   "metadata": {
    "vscode": {
     "languageId": "python"
    }
   },
   "outputs": [],
   "source": [
    "def solution(brown, red):\n",
    "    for index in range(1,red+1):\n",
    "        if red%index == 0: \n",
    "            length = red//index\n",
    "            if (((index+2)*(length+2))-(index*length)) == brown:\n",
    "                return [max(index+2,length+2),min(index+2,length+2)]"
   ]
  }
 ],
 "metadata": {
  "kernelspec": {
   "display_name": "Python 3 (ipykernel)",
   "language": "python",
   "name": "python3"
  },
  "orig_nbformat": 4
 },
 "nbformat": 4,
 "nbformat_minor": 2
}
