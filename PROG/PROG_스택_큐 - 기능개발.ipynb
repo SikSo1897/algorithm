{
 "cells": [
  {
   "cell_type": "code",
   "execution_count": 102,
   "metadata": {},
   "outputs": [],
   "source": [
    "# https://programmers.co.kr/learn/courses/30/lessons/42586?language=python3\n",
    "import math\n",
    "def solution(progs, sps):\n",
    "    remains = [math.ceil((100-prog)/sp) for prog, sp in zip(progs, sps)]\n",
    "    rlt = [1]\n",
    "    \n",
    "    release_day = remains[0]\n",
    "    \n",
    "    for remain in remains[1:]:\n",
    "        if remain > release_day:\n",
    "            release_day = remain\n",
    "            rlt.append(1)\n",
    "            \n",
    "        else:\n",
    "            rlt[-1] = rlt[-1]+1\n",
    "    \n",
    "    return rlt\n",
    " \n",
    "    "
   ]
  },
  {
   "cell_type": "code",
   "execution_count": 103,
   "metadata": {},
   "outputs": [
    {
     "data": {
      "text/plain": [
       "[2, 1]"
      ]
     },
     "execution_count": 103,
     "metadata": {},
     "output_type": "execute_result"
    }
   ],
   "source": [
    "solution(\n",
    "  progs=[93, 30, 55],\n",
    "  sps=[2, 30, 5]\n",
    ")\n"
   ]
  }
 ],
 "metadata": {
  "kernelspec": {
   "display_name": "Python 3 (ipykernel)",
   "language": "python",
   "name": "python3"
  },
  "language_info": {
   "codemirror_mode": {
    "name": "ipython",
    "version": 3
   },
   "file_extension": ".py",
   "mimetype": "text/x-python",
   "name": "python",
   "nbconvert_exporter": "python",
   "pygments_lexer": "ipython3",
   "version": "3.9.7"
  },
  "orig_nbformat": 4
 },
 "nbformat": 4,
 "nbformat_minor": 2
}
