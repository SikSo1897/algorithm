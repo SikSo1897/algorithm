{
 "cells": [
  {
   "cell_type": "code",
   "execution_count": 77,
   "metadata": {},
   "outputs": [],
   "source": [
    "import heapq\n",
    "# https://programmers.co.kr/learn/courses/30/lessons/42626?language=python3\n",
    "def cal_scov(foods):\n",
    "    global answer\n",
    "    # 섞은 음식의 스코빌 지수 = 가장 맵지 않은 음식의 스코빌 지수 + (두 번째로 맵지 않은 음식의 스코빌 지수 * 2)\n",
    "    answer = answer + 1\n",
    "    return heapq.heappop(foods) + heapq.heappop(foods) * 2\n",
    "\n",
    "def solution(foods, K):\n",
    "    global answer\n",
    "    answer = 0\n",
    "    \n",
    "    heapq.heapify(foods)\n",
    "\n",
    "    while foods[0] < K and len(foods) > 1:\n",
    "        mix = cal_scov(foods)\n",
    "        heapq.heappush(foods, mix)\n",
    "    \n",
    "    if foods[0] >= K:\n",
    "        return answer\n",
    "    else:\n",
    "        return -1"
   ]
  },
  {
   "cell_type": "code",
   "execution_count": null,
   "metadata": {},
   "outputs": [],
   "source": [
    "import heapq\n",
    "def solution(scoville, K):\n",
    "    answer = 0\n",
    "    scoville.sort()\n",
    "    while(1):\n",
    "        temp = heapq.heappop(scoville) + heapq.heappop(scoville)*2\n",
    "        heapq.heappush(scoville,temp)\n",
    "        answer+=1\n",
    "        if(scoville[0]>=K):\n",
    "            break\n",
    "        if(len(scoville)==1):\n",
    "            return -1\n",
    "\n",
    "    return answer\n",
    "\n",
    "print(solution([1, 2, 3, 9, 10, 12],7))"
   ]
  },
  {
   "cell_type": "code",
   "execution_count": 78,
   "metadata": {},
   "outputs": [
    {
     "name": "stdout",
     "output_type": "stream",
     "text": [
      "1\n",
      "mix! 0\n",
      "mix! 1\n"
     ]
    },
    {
     "data": {
      "text/plain": [
       "2"
      ]
     },
     "execution_count": 78,
     "metadata": {},
     "output_type": "execute_result"
    }
   ],
   "source": [
    "solution(\n",
    "    [1,2,1],\n",
    "    3\n",
    ")\n"
   ]
  }
 ],
 "metadata": {
  "kernelspec": {
   "display_name": "Python 3 (ipykernel)",
   "language": "python",
   "name": "python3"
  },
  "language_info": {
   "codemirror_mode": {
    "name": "ipython",
    "version": 3
   },
   "file_extension": ".py",
   "mimetype": "text/x-python",
   "name": "python",
   "nbconvert_exporter": "python",
   "pygments_lexer": "ipython3",
   "version": "3.9.7"
  },
  "orig_nbformat": 4
 },
 "nbformat": 4,
 "nbformat_minor": 2
}
