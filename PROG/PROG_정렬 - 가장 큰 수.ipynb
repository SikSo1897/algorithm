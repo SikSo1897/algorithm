{
 "cells": [
  {
   "cell_type": "markdown",
   "metadata": {},
   "source": [
    "[프로그래머스>코딩테스트연습>정렬>가장 큰 수](https://programmers.co.kr/learn/courses/30/lessons/42746)\n",
    "\n",
    "https://programmers.co.kr/learn/courses/30/lessons/42746"
   ]
  },
  {
   "cell_type": "code",
   "execution_count": null,
   "metadata": {},
   "outputs": [],
   "source": [
    "def solution(numbers): \n",
    "    numbers = list(map(lambda x: str(x), numbers))\n",
    "    lst = list(map(lambda x: (x*4, x), numbers))\n",
    "    lst = list(map(lambda x: (x[0][0:4], x[1]), lst))\n",
    "    \n",
    "    lst.sort(key=lambda x: int(x[0]), reverse=True)\n",
    "    \n",
    "    result = list(map(lambda x: x[1], lst))\n",
    "               \n",
    "    return str(int(''.join(result)))"
   ]
  }
 ],
 "metadata": {
  "language_info": {
   "name": "python"
  },
  "orig_nbformat": 4
 },
 "nbformat": 4,
 "nbformat_minor": 2
}
