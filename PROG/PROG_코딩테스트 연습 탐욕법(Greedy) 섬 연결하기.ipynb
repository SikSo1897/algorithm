{
 "cells": [
  {
   "cell_type": "code",
   "execution_count": null,
   "metadata": {},
   "outputs": [],
   "source": [
    "def find(target):\n",
    "    global parent\n",
    "    \n",
    "    if target == parent[target]: return target\n",
    "    return find(parent[target])\n",
    "\n",
    "def union(a, b):\n",
    "    global parent\n",
    "    \n",
    "    a = find(a)\n",
    "    b = find(b)\n",
    "    \n",
    "    if a < b : parent[b] = a\n",
    "    else: parent[a] = b\n",
    "\n",
    "def isCyclic(a, b):\n",
    "    global parent\n",
    "    \n",
    "    a = find(a)\n",
    "    b = find(b)\n",
    "    \n",
    "    if (a == b): return True\n",
    "    else: return False\n",
    "    \n",
    "def solution(n, costs):\n",
    "    global parent\n",
    "    answer = 0\n",
    "    \n",
    "    parent = [ i for i in range(n+1) ]\n",
    "\n",
    "    q = []\n",
    "    q.append(0)\n",
    "    \n",
    "    ncosts = sorted(costs, key=lambda x: x[2])\n",
    "    total = 0\n",
    "    \n",
    "    while ncosts:\n",
    "        v1, v2, c = ncosts.pop(0)\n",
    "        if not isCyclic(v1, v2):\n",
    "            total += c\n",
    "            union(v1, v2) \n",
    "                \n",
    "    \n",
    "    answer = total\n",
    "    \n",
    "    return answer\n",
    "\n"
   ]
  }
 ],
 "metadata": {
  "language_info": {
   "name": "python"
  },
  "orig_nbformat": 4
 },
 "nbformat": 4,
 "nbformat_minor": 2
}
