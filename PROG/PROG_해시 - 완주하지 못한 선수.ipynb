{
 "cells": [
  {
   "cell_type": "code",
   "execution_count": 41,
   "metadata": {},
   "outputs": [],
   "source": [
    "# https://programmers.co.kr/learn/courses/30/lessons/42576?language=python3\n",
    "\n",
    "def solution(parts, compls):\n",
    "    answer = \"\"\n",
    "    rlt = {}\n",
    "    \n",
    "    for compl in compls:\n",
    "        if compl in rlt.keys():\n",
    "            rlt[compl] += 1\n",
    "        else:\n",
    "            rlt[compl] = 1\n",
    "    \n",
    "    for part in parts:\n",
    "        if part in rlt.keys():\n",
    "            if rlt[part] == 0:\n",
    "                return part\n",
    "            rlt[part] -= 1\n",
    "        else:\n",
    "            return part\n",
    "    \n",
    "    return \"\"\n"
   ]
  },
  {
   "cell_type": "code",
   "execution_count": 42,
   "metadata": {},
   "outputs": [
    {
     "data": {
      "text/plain": [
       "'vinko'"
      ]
     },
     "execution_count": 42,
     "metadata": {},
     "output_type": "execute_result"
    }
   ],
   "source": [
    "solution(\n",
    "    [\"leo\", \"kiki\", \"eden\"],\t[\"eden\", \"kiki\"]\n",
    ")\n",
    "solution(\n",
    "    [\"mislav\", \"stanko\", \"mislav\", \"ana\"],\n",
    "    [\"stanko\", \"ana\", \"mislav\"]\n",
    ")\n",
    "solution(\n",
    "  [\"marina\", \"josipa\", \"nikola\", \"vinko\", \"filipa\"],[\"josipa\", \"filipa\", \"marina\", \"nikola\"]\n",
    ")"
   ]
  }
 ],
 "metadata": {
  "kernelspec": {
   "display_name": "Python 3 (ipykernel)",
   "language": "python",
   "name": "python3"
  },
  "language_info": {
   "codemirror_mode": {
    "name": "ipython",
    "version": 3
   },
   "file_extension": ".py",
   "mimetype": "text/x-python",
   "name": "python",
   "nbconvert_exporter": "python",
   "pygments_lexer": "ipython3",
   "version": "3.9.7"
  },
  "orig_nbformat": 4
 },
 "nbformat": 4,
 "nbformat_minor": 2
}
