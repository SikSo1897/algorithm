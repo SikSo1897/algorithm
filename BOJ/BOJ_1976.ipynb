{
 "cells": [
  {
   "cell_type": "markdown",
   "metadata": {},
   "source": [
    "[#1976 여행 가자](https://www.acmicpc.net/problem/1976)\n"
   ]
  },
  {
   "cell_type": "code",
   "execution_count": 13,
   "metadata": {},
   "outputs": [
    {
     "ename": "ValueError",
     "evalue": "invalid literal for int() with base 10: ''",
     "output_type": "error",
     "traceback": [
      "\u001b[0;31m---------------------------------------------------------------------------\u001b[0m",
      "\u001b[0;31mValueError\u001b[0m                                Traceback (most recent call last)",
      "\u001b[1;32m/home/sikso/work/algorithm/ongoing/BOJ_1976.ipynb Cell 2'\u001b[0m in \u001b[0;36m<module>\u001b[0;34m\u001b[0m\n\u001b[1;32m      <a href='vscode-notebook-cell://ssh-remote%2B7b22686f73744e616d65223a224c41422d536572766572227d/home/sikso/work/algorithm/ongoing/BOJ_1976.ipynb#ch0000002vscode-remote?line=0'>1</a>\u001b[0m \u001b[39mimport\u001b[39;00m \u001b[39msys\u001b[39;00m\n\u001b[1;32m      <a href='vscode-notebook-cell://ssh-remote%2B7b22686f73744e616d65223a224c41422d536572766572227d/home/sikso/work/algorithm/ongoing/BOJ_1976.ipynb#ch0000002vscode-remote?line=1'>2</a>\u001b[0m \u001b[39minput\u001b[39m \u001b[39m=\u001b[39m sys\u001b[39m.\u001b[39mstdin\u001b[39m.\u001b[39mreadline\n\u001b[0;32m----> <a href='vscode-notebook-cell://ssh-remote%2B7b22686f73744e616d65223a224c41422d536572766572227d/home/sikso/work/algorithm/ongoing/BOJ_1976.ipynb#ch0000002vscode-remote?line=2'>3</a>\u001b[0m n, m \u001b[39m=\u001b[39m \u001b[39mint\u001b[39;49m(\u001b[39minput\u001b[39;49m()), \u001b[39mint\u001b[39m(\u001b[39minput\u001b[39m()) \n\u001b[1;32m      <a href='vscode-notebook-cell://ssh-remote%2B7b22686f73744e616d65223a224c41422d536572766572227d/home/sikso/work/algorithm/ongoing/BOJ_1976.ipynb#ch0000002vscode-remote?line=3'>4</a>\u001b[0m city \u001b[39m=\u001b[39m [ \u001b[39mlist\u001b[39m(\u001b[39mmap\u001b[39m(\u001b[39mint\u001b[39m, \u001b[39minput\u001b[39m()\u001b[39m.\u001b[39msplit())) \u001b[39mfor\u001b[39;00m _ \u001b[39min\u001b[39;00m \u001b[39mrange\u001b[39m(n) ]\n\u001b[1;32m      <a href='vscode-notebook-cell://ssh-remote%2B7b22686f73744e616d65223a224c41422d536572766572227d/home/sikso/work/algorithm/ongoing/BOJ_1976.ipynb#ch0000002vscode-remote?line=4'>5</a>\u001b[0m plan \u001b[39m=\u001b[39m \u001b[39mlist\u001b[39m(\u001b[39mmap\u001b[39m(\u001b[39mint\u001b[39m, \u001b[39minput\u001b[39m()\u001b[39m.\u001b[39msplit()))\n",
      "\u001b[0;31mValueError\u001b[0m: invalid literal for int() with base 10: ''"
     ]
    }
   ],
   "source": [
    "import sys\n",
    "input = sys.stdin.readline\n",
    "n, m = int(input()), int(input()) \n",
    "city = [ list(map(int, input().split())) for _ in range(n) ]\n",
    "plan = list(map(int, input().split()))"
   ]
  },
  {
   "cell_type": "code",
   "execution_count": 43,
   "metadata": {},
   "outputs": [],
   "source": [
    "def makeTC(TC):\n",
    "    global n, m, city, plan\n",
    "    print(TC)\n",
    "    TC = TC.strip().split(\"\\n\")\n",
    "    n, m = int(TC[0]), int(TC[1])\n",
    "    city = [ list(map(int, _str.split())) for _str in TC[2:-1] ]\n",
    "    plan = list(map(int, TC[-1].split()))\n",
    "    "
   ]
  },
  {
   "cell_type": "code",
   "execution_count": 36,
   "metadata": {},
   "outputs": [],
   "source": [
    "def solution_v1(n, m, city, plan):\n",
    "    \n",
    "    # rlt = \"NO\"\n",
    "    \n",
    "    visited = [ False  for _ in range(n)]\n",
    "    \n",
    "    start = plan[0] - 1\n",
    "    \n",
    "    visited[start] = True\n",
    "    \n",
    "    def dfs(i, dest):\n",
    "        for j in range(n): # 현재 도시에서 방문할 수 있는 도시들\n",
    "            if city[i][j] == 1 and visited[j] == False: # 방문 가능한 도시\n",
    "                visited[j] == True\n",
    "                print(f\"{i}->{j} [{visited[j]}]\")\n",
    "                \n",
    "                if j == dest:\n",
    "                    return True\n",
    "                \n",
    "                else:\n",
    "                    dfs(j, dest)\n",
    "                \n",
    "        return False\n",
    "\n",
    "    for _plan in plan[1:]:\n",
    "        # print(\"initials\")\n",
    "        \n",
    "        dest = _plan - 1\n",
    "        # print(f\"-- start: {start} ->\")\n",
    "        # print(f\"-- plan: {dest}\")\n",
    "        # print(visited)\n",
    "        \n",
    "        flag = dfs(start, dest)\n",
    "        \n",
    "        if not flag:\n",
    "            return \"NO\"\n",
    "    \n",
    "        start = dest\n",
    "        \n",
    "        visited = [ False  for _ in range(n)]\n",
    "        visited[dest] = True\n",
    "        \n",
    "    return \"YES\"        \n",
    "        \n",
    "        "
   ]
  },
  {
   "cell_type": "code",
   "execution_count": 37,
   "metadata": {},
   "outputs": [
    {
     "name": "stdout",
     "output_type": "stream",
     "text": [
      "NO\n"
     ]
    }
   ],
   "source": [
    "rlt = solution_v1(n, m, city, plan)\n",
    "print(rlt)"
   ]
  },
  {
   "cell_type": "code",
   "execution_count": 56,
   "metadata": {},
   "outputs": [
    {
     "name": "stdout",
     "output_type": "stream",
     "text": [
      "\n",
      "5\n",
      "2\n",
      "0 1 1 0 0\n",
      "1 0 0 0 0\n",
      "1 0 0 0 0\n",
      "0 0 0 0 1\n",
      "0 0 0 1 0\n",
      "1 5\n",
      "\n",
      "NO\n"
     ]
    }
   ],
   "source": [
    "def dfs(i, dest):\n",
    "    global city, visited\n",
    "    # print(f\"call -- dfs:{i} -> {dest} : {visited}\")\n",
    "    for j in range(n): # 현재 도시에서 방문할 수 있는 도시들\n",
    "        if city[i][j] == 1 and visited[j] == False: # 방문 가능한 도시\n",
    "            visited[j] = True\n",
    "            dfs(j, dest)\n",
    "\n",
    "def solution_v1(n, m, city, plan):  \n",
    "    global visited\n",
    "    \n",
    "    visited = [ False ] * n\n",
    "    start = plan[0] - 1\n",
    "    visited[start] = True\n",
    "    \n",
    "    # print(plan)\n",
    "    # print(f\"initial visited: {visited}\")\n",
    "    for _plan in plan[1:]:\n",
    "        dest = _plan - 1\n",
    "        \n",
    "        if start == dest:\n",
    "            continue\n",
    "\n",
    "        dfs(start, dest)\n",
    "        \n",
    "        if visited[dest] is False:\n",
    "            return \"NO\"\n",
    "    \n",
    "        start = dest        \n",
    "        visited = [ False  for _ in range(n)]\n",
    "        visited[start] = True\n",
    "        \n",
    "    return \"YES\"        \n",
    "\n",
    "# import sys\n",
    "\n",
    "# input = sys.stdin.readline\n",
    "# n, m = int(input()), int(input()) \n",
    "# city = [ list(map(int, input().split())) for _ in range(n) ]\n",
    "# plan = list(map(int, input().split()))\n",
    "makeTC('''\n",
    "5\n",
    "2\n",
    "0 1 1 0 0\n",
    "1 0 0 0 0\n",
    "1 0 0 0 0\n",
    "0 0 0 0 1\n",
    "0 0 0 1 0\n",
    "1 5\n",
    "''')\n",
    "rlt = solution_v1(n, m, city, plan)\n",
    "print(rlt)\n",
    "        "
   ]
  },
  {
   "cell_type": "code",
   "execution_count": null,
   "metadata": {},
   "outputs": [],
   "source": [
    "import sys\n",
    "\n",
    "input = sys.stdin.readline\n",
    "n, m = int(input()), int(input()) \n",
    "city = [ list(map(int, input().split())) for _ in range(n) ]\n",
    "plan = list(map(int, input().split()))\n",
    "\n",
    "n = int(input())  # 도시 개수\n",
    "m = int(input())  # 여행할 도시 개수\n",
    "parent = [i for i in range(n + 1)]\n",
    "graph = [list(map(int, input().split())) for _ in range(n)]\n",
    "route = list(map(int, input().split()))\n",
    "\n",
    "rlt = solution_v1(n, m, city, plan)\n",
    "print(rlt)"
   ]
  }
 ],
 "metadata": {
  "kernelspec": {
   "display_name": "Python 3 (ipykernel)",
   "language": "python",
   "name": "python3"
  },
  "language_info": {
   "codemirror_mode": {
    "name": "ipython",
    "version": 3
   },
   "file_extension": ".py",
   "mimetype": "text/x-python",
   "name": "python",
   "nbconvert_exporter": "python",
   "pygments_lexer": "ipython3",
   "version": "3.9.7"
  },
  "orig_nbformat": 4
 },
 "nbformat": 4,
 "nbformat_minor": 2
}
