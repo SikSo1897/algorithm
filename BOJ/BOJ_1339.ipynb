{
 "cells": [
  {
   "cell_type": "markdown",
   "metadata": {},
   "source": [
    "[단어 수학](https://www.acmicpc.net/problem/1339)\n",
    "- N개의 알파벳 묶음을 받는다.\n",
    "- 알파벳 묶음중 제일 긴 묶음을 이용하여 알파벳 숫자를 맵핑한다.\n",
    "- 알파벳 숫자 맵핑은 좌측(높은 자릿 수)부터 내림차순으로 전개한다.\n",
    "- 맵핑된 알파벳 숫자를 이용하여 데이터 합산을 진행한다.\n",
    "\n"
   ]
  },
  {
   "cell_type": "code",
   "execution_count": 97,
   "metadata": {},
   "outputs": [],
   "source": [
    "import sys\n",
    "def solution(se):\n",
    "    \n",
    "    ckpt = [str(i) for i in range(10)]\n",
    "    \n",
    "    dic = {}\n",
    "    \n",
    "    que = sorted(se, key=lambda x: -len(x))\n",
    "    \n",
    "    while que:\n",
    "        flag = False        \n",
    "        _str = list(que.pop(0))\n",
    "        \n",
    "        if que and que[0]:\n",
    "            next_len = len(que[0])\n",
    "        \n",
    "        while _str:    \n",
    "            _chr = _str.pop(0)\n",
    "            \n",
    "            if _chr not in dic.keys():\n",
    "                dic[_chr] = ckpt.pop() \n",
    "            \n",
    "            if next_len and next_len > len(_str):\n",
    "                que.append(_str)\n",
    "                break\n",
    "            \n",
    "            if len(dic.keys()) >= 10:\n",
    "                flag = True\n",
    "                break\n",
    "            \n",
    "        if flag:\n",
    "            break\n",
    "        \n",
    "    summ = 0\n",
    "    for __str in se:\n",
    "        summ += int(''.join(map(lambda c: dic[c], __str)))\n",
    "    \n",
    "    return summ\n",
    "    "
   ]
  },
  {
   "cell_type": "code",
   "execution_count": null,
   "metadata": {},
   "outputs": [],
   "source": [
    "n = int(sys.stdin.readline().strip())\n",
    "se = []\n",
    "\n",
    "for i in range(n):\n",
    "    se.append(sys.stdin.readline())\n",
    "    \n",
    "N = int(sys.stdin.readline().replace(\"\\n\", \"\"))\n",
    "dec = 0\n",
    "\n",
    "words = []\n",
    "answer = -1\n",
    "for _ in range(N):\n",
    "    word = list(sys.stdin.readline().replace(\"\\n\", \"\"))\n",
    "    words.append(word)\n",
    "    dec = max(len(word), dec)"
   ]
  },
  {
   "cell_type": "code",
   "execution_count": 103,
   "metadata": {},
   "outputs": [
    {
     "name": "stdout",
     "output_type": "stream",
     "text": [
      "1780\n"
     ]
    }
   ],
   "source": [
    "TC='''\n",
    "10\n",
    "ABB\n",
    "BB\n",
    "BB\n",
    "BB\n",
    "BB\n",
    "BB\n",
    "BB\n",
    "BB\n",
    "BB\n",
    "BB\n",
    "'''\n",
    "TC = TC.strip().split(\"\\n\")\n",
    "n, se = TC[0], TC[1:]\n",
    "rlt = solution(se)\n",
    "print(rlt)\n",
    "\n"
   ]
  },
  {
   "cell_type": "code",
   "execution_count": 108,
   "metadata": {},
   "outputs": [
    {
     "name": "stdout",
     "output_type": "stream",
     "text": [
      "{'A': 100, 'B': 110}\n"
     ]
    },
    {
     "data": {
      "text/plain": [
       "1790"
      ]
     },
     "execution_count": 108,
     "metadata": {},
     "output_type": "execute_result"
    }
   ],
   "source": [
    "def solution_v2(n, alpha):\n",
    "    \n",
    "    alpha_dict = {}\n",
    "    num_lst = []\n",
    "    \n",
    "    for i in range(n):\n",
    "        for j in range(len(alpha[i])):\n",
    "            if alpha[i][j] in alpha_dict: \n",
    "                alpha_dict[alpha[i][j]] += 10 ** (len(alpha[i])-j-1)\n",
    "            else:  \n",
    "                alpha_dict[alpha[i][j]] = 10 ** (len(alpha[i])-j-1)\n",
    "    for val in alpha_dict.values(): \n",
    "        num_lst.append(val)\n",
    "\n",
    "    num_lst.sort(reverse=True) \n",
    "\n",
    "    summ = 0\n",
    "    pows = 9\n",
    "    for i in num_lst:\n",
    "        summ += pows * i\n",
    "        pows -= 1\n",
    "  \n",
    "    return summ\n",
    "\n",
    "solution_v2(int(n), se)"
   ]
  },
  {
   "cell_type": "code",
   "execution_count": null,
   "metadata": {},
   "outputs": [],
   "source": []
  }
 ],
 "metadata": {
  "kernelspec": {
   "display_name": "Python 3 (ipykernel)",
   "language": "python",
   "name": "python3"
  },
  "language_info": {
   "codemirror_mode": {
    "name": "ipython",
    "version": 3
   },
   "file_extension": ".py",
   "mimetype": "text/x-python",
   "name": "python",
   "nbconvert_exporter": "python",
   "pygments_lexer": "ipython3",
   "version": "3.9.7"
  },
  "orig_nbformat": 4
 },
 "nbformat": 4,
 "nbformat_minor": 2
}
