{
 "cells": [
  {
   "cell_type": "markdown",
   "metadata": {},
   "source": [
    "### [내려가기 - 2096](https://www.acmicpc.net/problem/2096)\n",
    "#### 문제\n",
    "---\n",
    "N줄에 0 이상 9 이하의 숫자가 세 개씩 적혀 있다. 내려가기 게임을 하고 있는데,이 게임은 첫 줄에서 시작해서 마지막 줄에서 끝나게 되는 놀이이다.\n",
    "\n",
    "먼저 처음에 적혀 있는 세 개의 숫자 중에서 하나를 골라서 시작하게 된다. 그리고 다음 줄로 내려가는데, 다음 줄로 내려갈 때에는 다음과 같은 제약 조건이 있다. \n",
    "\n",
    "바로 아래의 수로 넘어가거나, 아니면 바로 아래의 수와 붙어 있는 수로만 이동할 수 있다는 것이다. 이 제약 조건을 그림으로 나타내어 보면 다음과 같다.\n",
    "\n",
    "<img src=\"https://www.acmicpc.net/JudgeOnline/upload/201007/down.png\"/>\n",
    "\n",
    "별표는 현재 위치이고, 그 아랫 줄의 파란 동그라미는 원룡이가 다음 줄로 내려갈 수 있는 위치이며, 빨간 가위표는 원룡이가 내려갈 수 없는 위치가 된다. \n",
    "\n",
    "숫자표가 주어져 있을 때, 얻을 수 있는 최대 점수, 최소 점수를 구하는 프로그램을 작성하시오. 점수는 원룡이가 위치한 곳의 수의 합이다.\n",
    "\n",
    "#### 입력\n",
    "---\n",
    "첫째 줄에 N(1 ≤ N ≤ 100,000)이 주어진다. 다음 N개의 줄에는 숫자가 세 개씩 주어진다. 숫자는 0, 1, 2, 3, 4, 5, 6, 7, 8, 9 중의 하나가 된다.\n",
    "\n",
    "#### 출력\n",
    "---\n",
    "첫째 줄에 얻을 수 있는 최대 점수와 최소 점수를 띄어서 출력한다."
   ]
  },
  {
   "cell_type": "code",
   "execution_count": 1,
   "metadata": {},
   "outputs": [],
   "source": [
    "#  예제 입력, 출력\n",
    "'''\n",
    "3\n",
    "1 2 3\n",
    "4 5 6\n",
    "4 9 0\n",
    "\n",
    "18 6\n",
    "'''"
   ]
  },
  {
   "cell_type": "code",
   "execution_count": null,
   "metadata": {},
   "outputs": [],
   "source": [
    "import sys\n",
    "# input = sys.stdin.readline\n",
    "\n",
    "n = int(sys.stdin.readline())\n",
    "\n",
    "mat = list(map(int, sys.stdin.readline().split()))\n",
    "\n",
    "mxdp = mat.copy()\n",
    "midp = mat.copy()\n",
    "\n",
    "for i in range(1, n):\n",
    "    mat = list(map(int, sys.stdin.readline().split()))\n",
    "    mxtmp = mxdp.copy()\n",
    "    mitmp = midp.copy() \n",
    "    mxdp[0] = max(mxtmp[0], mxtmp[1]) + mat[0]\n",
    "    midp[0] = min(mitmp[0], mitmp[1]) + mat[0]\n",
    "    \n",
    "    mxdp[1] = max(mxtmp[0], mxtmp[1], mxtmp[2]) +mat[1]\n",
    "    midp[1] = min(mitmp[0], mitmp[1], mitmp[2]) +mat[1]\n",
    "    \n",
    "    mxdp[2] = max(mxtmp[1], mxtmp[2]) +mat[2]\n",
    "    midp[2] = min(mitmp[1], mitmp[2]) +mat[2]\n",
    "    \n",
    "print(max(mxdp), min(midp))"
   ]
  }
 ],
 "metadata": {
  "kernelspec": {
   "display_name": "Python 3.9.5 64-bit ('3.9.5')",
   "language": "python",
   "name": "python3"
  },
  "language_info": {
   "codemirror_mode": {
    "name": "ipython",
    "version": 3
   },
   "file_extension": ".py",
   "mimetype": "text/x-python",
   "name": "python",
   "nbconvert_exporter": "python",
   "pygments_lexer": "ipython3",
   "version": "3.9.5"
  },
  "orig_nbformat": 4,
  "vscode": {
   "interpreter": {
    "hash": "ccb09e2f5a17468ac77987a46291f6a091cb5a37e7080dd78ac66c3e26632db0"
   }
  }
 },
 "nbformat": 4,
 "nbformat_minor": 2
}
