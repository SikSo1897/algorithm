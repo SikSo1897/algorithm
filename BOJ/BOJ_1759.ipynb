{
 "cells": [
  {
   "cell_type": "markdown",
   "metadata": {},
   "source": [
    "[암호만들기](https://www.acmicpc.net/problem/1759)\n",
    "- https://www.acmicpc.net/problem/1759"
   ]
  },
  {
   "cell_type": "code",
   "execution_count": null,
   "metadata": {},
   "outputs": [],
   "source": [
    "import sys\n"
   ]
  },
  {
   "cell_type": "code",
   "execution_count": 16,
   "metadata": {},
   "outputs": [],
   "source": [
    "def makeTC(TC: str):\n",
    "    global l, c, alphas\n",
    "    TC = TC.strip().split(\"\\n\")\n",
    "    l, c = map(int, TC[0].split())\n",
    "    alphas = TC[1].split()\n",
    "    "
   ]
  },
  {
   "cell_type": "code",
   "execution_count": 99,
   "metadata": {},
   "outputs": [],
   "source": [
    "TC = '''\n",
    "4 6\n",
    "a t c i s w\n",
    "'''\n",
    "TC = '''\n",
    "3 5\n",
    "a e i b c\n",
    "'''\n",
    "makeTC(TC)"
   ]
  },
  {
   "cell_type": "code",
   "execution_count": 100,
   "metadata": {},
   "outputs": [
    {
     "name": "stdout",
     "output_type": "stream",
     "text": [
      "3 5 ['a', 'e', 'i', 'b', 'c']\n",
      "\n",
      "TC --\n",
      "\n",
      "ja:['b', 'c']\n",
      "\n",
      "mo:['a', 'e', 'i']\n",
      "\n",
      "--\n",
      "\n"
     ]
    }
   ],
   "source": [
    "print(l, c, alphas)\n",
    "alphas.sort()\n",
    "ja = [ alpha for alpha in alphas if alpha not in [\"a\",\"e\",\"i\",\"o\",\"u\"]] # 3<=\n",
    "mo = [ alpha for alpha in alphas if alpha in [\"a\",\"e\",\"i\",\"o\",\"u\"]] # 2 <= l <= ja\n",
    "print(f'''\n",
    "TC --\\n\n",
    "ja:{ja}\\n\n",
    "mo:{mo}\\n\n",
    "--\n",
    "''')"
   ]
  },
  {
   "cell_type": "code",
   "execution_count": 101,
   "metadata": {},
   "outputs": [
    {
     "name": "stdout",
     "output_type": "stream",
     "text": [
      "abc\n",
      "abe\n",
      "abi\n",
      "ace\n",
      "aci\n",
      "aei\n",
      "bce\n",
      "bci\n",
      "bei\n",
      "cei\n"
     ]
    }
   ],
   "source": [
    "def container(n, arr): \n",
    "    # global store\n",
    "    end = len(arr) # 자음 들\n",
    "    picked = []\n",
    "    store = []\n",
    "    start = 0\n",
    "    \n",
    "    def recur(start, end):\n",
    "        # global store\n",
    "        # basecase \n",
    "        if len(picked) == n: # 몇개 뽑을 껀지\n",
    "            # print(f\"{picked}({type(picked)})\")\n",
    "            store.append(list(picked))\n",
    "            return \n",
    "        # 1개선택 \n",
    "        for i in range(start, end): \n",
    "            picked.append(arr[i]) \n",
    "            # 재귀하면서 나머지 원소 선택 \n",
    "            # start = picked[-1] + 1 \n",
    "            recur(i+1, end) \n",
    "            picked.pop() \n",
    "    recur(start, end) \n",
    "    return store\n",
    "\n",
    "def solution(mo, ja):\n",
    "    \n",
    "    cases = [ (nl, l-nl) for nl in  range(1, len(mo)+1) if l-nl >= 2] # 자음 2개 이상 모음 1개 이상 ( 자음 <)\n",
    "    rlt = []\n",
    "    for case in cases:\n",
    "        # 모음 조합 저장 리스트\n",
    "        jas = []\n",
    "        mos = []\n",
    "        \n",
    "        # 자음 조합 저장 리스트    \n",
    "        \n",
    "        set_mos = container(case[0], mo)\n",
    "        set_jas = container(case[1], ja)\n",
    "        \n",
    "        for mos in set_mos:\n",
    "            for jas in set_jas:\n",
    "                rlt.append(\"\".join(sorted(list(mos + jas))))\n",
    "        # print(mos)\n",
    "        # print(jas)\n",
    "    return sorted(rlt)\n",
    "        # print(acc_ja)\n",
    "        # 모음 조합 저장 리스트 + 자음 조합 저장 리스트\n",
    "        \n",
    "\n",
    "rlt = solution(mo, ja) \n",
    "for pwd in rlt:\n",
    "    print(pwd)\n",
    "    "
   ]
  },
  {
   "cell_type": "code",
   "execution_count": null,
   "metadata": {},
   "outputs": [],
   "source": []
  },
  {
   "cell_type": "code",
   "execution_count": 51,
   "metadata": {},
   "outputs": [
    {
     "name": "stdout",
     "output_type": "stream",
     "text": [
      "['a', 'b']\n",
      "['a', 'c']\n",
      "['a', 'd']\n",
      "['a', 'e']\n",
      "['b', 'c']\n",
      "['b', 'd']\n",
      "['b', 'e']\n",
      "['c', 'd']\n",
      "['c', 'e']\n",
      "['d', 'e']\n"
     ]
    }
   ],
   "source": [
    "def solution(arr): \n",
    "    n = len(arr)\n",
    "    picked = []\n",
    "    start = 0\n",
    "    def recur(start, n):\n",
    "        # basecase \n",
    "        if len(picked) == 2: \n",
    "            print(picked) \n",
    "            return \n",
    "        # 1개선택 \n",
    "        for i in range(start, n): \n",
    "            picked.append(arr[i]) \n",
    "            # 재귀하면서 나머지 원소 선택 \n",
    "            # start = picked[-1] + 1 \n",
    "            recur(i+1, n) \n",
    "            picked.pop() \n",
    "    recur(start, n) \n",
    "\n",
    "solution([\"a\",\"b\",\"c\",\"d\",\"e\"])\n",
    "\n"
   ]
  },
  {
   "cell_type": "code",
   "execution_count": null,
   "metadata": {},
   "outputs": [],
   "source": []
  }
 ],
 "metadata": {
  "kernelspec": {
   "display_name": "Python 3 (ipykernel)",
   "language": "python",
   "name": "python3"
  },
  "language_info": {
   "codemirror_mode": {
    "name": "ipython",
    "version": 3
   },
   "file_extension": ".py",
   "mimetype": "text/x-python",
   "name": "python",
   "nbconvert_exporter": "python",
   "pygments_lexer": "ipython3",
   "version": "3.9.10"
  },
  "orig_nbformat": 4
 },
 "nbformat": 4,
 "nbformat_minor": 2
}
