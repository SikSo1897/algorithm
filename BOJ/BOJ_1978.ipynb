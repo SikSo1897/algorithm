{
 "cells": [
  {
   "cell_type": "code",
   "execution_count": 2,
   "metadata": {},
   "outputs": [],
   "source": [
    "# https://www.acmicpc.net/problem/1978\n",
    "# 소수 찾기\n",
    "MAX_N = 100 \n",
    "\n",
    "ex_1 = \"4\" # N\n",
    "ex_2 = [1, 3, 5, 7] # under 1000\n"
   ]
  },
  {
   "cell_type": "code",
   "execution_count": 27,
   "metadata": {},
   "outputs": [
    {
     "name": "stdout",
     "output_type": "stream",
     "text": [
      "2\n",
      "3\n",
      "Is 9 Prime? False\n"
     ]
    }
   ],
   "source": [
    "import sys\n",
    "\n",
    "i_1 = \"4\"\n",
    "i_2 = \"1 3 5 7 8\"\n",
    "\n",
    "N = i_1\n",
    "lst = list(map(int, i_2.split()))\n",
    "\n",
    "N = sys.stdin.readline()\n",
    "lst = list(map(int, sys.stdin.readline().split()))\n",
    "\n",
    "def isPrime(n):\n",
    "  rlt = True  \n",
    "  \n",
    "  if n == 2:\n",
    "    return rlt\n",
    "    \n",
    "  for dim in range(2, n):\n",
    "    if n%dim == 0:\n",
    "      rlt = False\n",
    "      break\n",
    "  return rlt\n",
    "\n",
    "cnt = 0\n",
    "for n in lst:\n",
    "  if(isPrime(n)): cnt +=1 \n",
    "\n",
    "print(cnt)"
   ]
  },
  {
   "cell_type": "code",
   "execution_count": 35,
   "metadata": {},
   "outputs": [
    {
     "name": "stdout",
     "output_type": "stream",
     "text": [
      "4\n",
      "[1, 3, 5, 7, 8]\n",
      "4\n"
     ]
    }
   ],
   "source": [
    "# N = sys.stdin.readline()\n",
    "# lst = list(map(int, sys.stdin.readline().split()))\n",
    "i_1 = \"4\"\n",
    "i_2 = \"1 3 5 7 8\"\n",
    "\n",
    "N = i_1\n",
    "lst = list(map(int, i_2.split()))\n",
    "\n",
    "print(N)\n",
    "print(lst)\n",
    "\n",
    "cnt = 0\n",
    "\n",
    "def isPrime(n):\n",
    "  rlt = True  \n",
    "\n",
    "  for dim in range(2, n):\n",
    "    if n%dim ==0:\n",
    "      rlt = False\n",
    "      break\n",
    "  return rlt\n",
    "\n",
    "for n in lst:\n",
    "  if(isPrime(n)): cnt +=1 \n",
    "\n",
    "print(cnt)\n",
    "  "
   ]
  }
 ],
 "metadata": {
  "kernelspec": {
   "display_name": "Python 3 (ipykernel)",
   "language": "python",
   "name": "python3"
  },
  "language_info": {
   "codemirror_mode": {
    "name": "ipython",
    "version": 3
   },
   "file_extension": ".py",
   "mimetype": "text/x-python",
   "name": "python",
   "nbconvert_exporter": "python",
   "pygments_lexer": "ipython3",
   "version": "3.9.10"
  },
  "orig_nbformat": 4
 },
 "nbformat": 4,
 "nbformat_minor": 2
}
