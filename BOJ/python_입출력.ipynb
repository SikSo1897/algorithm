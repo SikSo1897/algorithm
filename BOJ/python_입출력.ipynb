{
 "cells": [
  {
   "cell_type": "code",
   "execution_count": null,
   "metadata": {},
   "outputs": [],
   "source": [
    "import sys"
   ]
  },
  {
   "cell_type": "code",
   "execution_count": null,
   "metadata": {},
   "outputs": [],
   "source": [
    "# 공백을 기준으로 구분된 데이터를 입력 받을 떄\n",
    "\n",
    "data = list(map(int, input().split()))\n",
    "\n",
    "# 공백을 기준으로 구분된 데이터가 많지 않다면 \n",
    "a, b, c = map(int, input().split())"
   ]
  },
  {
   "cell_type": "code",
   "execution_count": null,
   "metadata": {},
   "outputs": [],
   "source": [
    "\n",
    "\n",
    "# 공백으로 구분된 2개 숫자 입력 받기\n",
    "N, M = map(int,sys.stdin.readline().split())\n",
    "\n",
    "# 2차원 리스트 입력 받기\n",
    "board = [list(map(int,sys.stdin.readline().split())) for _ in range(N)]\n",
    "\n",
    "# 문자열 입력 받기\n",
    "data = sys.stdin.readline().rstrip()"
   ]
  },
  {
   "cell_type": "code",
   "execution_count": null,
   "metadata": {},
   "outputs": [],
   "source": [
    "answer = 5\n",
    "print(f\"정답은 {answer} 입니다.\")"
   ]
  },
  {
   "cell_type": "code",
   "execution_count": null,
   "metadata": {},
   "outputs": [],
   "source": [
    "  result = [1, 2, 3]\n",
    "\n",
    "  # 기본적인 리스트 출력시\n",
    "  print(result)\n",
    "  # [1,2,3]\n",
    "\n",
    "  # for loop으로 원소를 하나씩 출력\n",
    "  for i in range(len(result)):\n",
    "      print(result[i], end=' ')\n",
    "  # 1 2 3\n",
    "\n",
    "  # 리스트의 원소를 언패킹 시켜서 출력\n",
    "  print(*result)\n",
    "  # 1 2 3 "
   ]
  },
  {
   "cell_type": "code",
   "execution_count": null,
   "metadata": {},
   "outputs": [],
   "source": [
    "# N x M 리스트 초기화 ex) 해당 좌표에 방문 체크하는 배열\n",
    "\n",
    "visited = [[False]*m for _ in range(n)]\n",
    "\n",
    "# 입력\n",
    "# 5 9\n",
    "# 0 0 0 0 0 0 0 0 0\n",
    "# 0 0 0 1 1 0 0 0 0\n",
    "# 0 0 0 1 1 0 1 1 0\n",
    "# 0 0 1 1 1 1 1 1 0\n",
    "# 0 0 1 1 1 1 1 0 0\n",
    "\n",
    "n, m = map(int, input().split())\n",
    "board = [list(map(int, input().split())) for _ in range(n)]"
   ]
  }
 ],
 "metadata": {
  "kernelspec": {
   "display_name": "Python 3.9.5 64-bit ('pk')",
   "language": "python",
   "name": "python3"
  },
  "language_info": {
   "name": "python",
   "version": "3.9.5"
  },
  "orig_nbformat": 4,
  "vscode": {
   "interpreter": {
    "hash": "ed15c6a1dc813b3b136e42a181cd4677852f3e2f076d68b1445d2eeedc2b8698"
   }
  }
 },
 "nbformat": 4,
 "nbformat_minor": 2
}
