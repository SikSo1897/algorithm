{
 "cells": [
  {
   "cell_type": "markdown",
   "metadata": {},
   "source": [
    "문제\n",
    "- 스택(stack)은 기본적인 자료구조 중 하나로, 컴퓨터 프로그램을 작성할 때 자주 이용되는 개념이다. 스택은 자료를 넣는(push) 입구와 자료를 뽑는(pop) 입구가 같아 제일 나중에 들어간 자료가 제일 먼저 나오는(LIFO, Last in First out) 특성을 가지고 있다.\n",
    "- 1부터 n까지의 수를 스택에 넣었다가 뽑아 늘어놓음으로써, 하나의 수열을 만들 수 있다. 이때, 스택에 push하는 순서는 반드시 오름차순을 지키도록 한다고 하자. 임의의 수열이 주어졌을 때 스택을 이용해 그 수열을 만들 수 있는지 없는지, 있다면 어떤 순서로 push와 pop 연산을 수행해야 하는지를 알아낼 수 있다. 이를 계산하는 프로그램을 작성하라.\n",
    "\n",
    "입력\n",
    "- 첫 줄에 n(1 ≤ n ≤ 100, 000)이 주어진다. 둘째 줄부터 n개의 줄에는 수열을 이루는 1이상 n이하의 정수가 하나씩 순서대로 주어진다. 물론 같은 정수가 두 번 나오는 일은 없다.\n",
    "\n",
    "출력\n",
    "- 입력된 수열을 만들기 위해 필요한 연산을 한m 줄에 한 개씩 출력한다. push연산은 + 로, pop 연산은 - 로 표현하도록 한다. 불가능한 경우 NO를 출력한다.\n"
   ]
  },
  {
   "cell_type": "code",
   "execution_count": 8,
   "metadata": {},
   "outputs": [
    {
     "name": "stdout",
     "output_type": "stream",
     "text": [
      "N\n",
      "O\n"
     ]
    }
   ],
   "source": [
    "v = 1\n",
    "stack = []\n",
    "result = []\n",
    "# inps = [4,3,6,8,7,5,2,1]\n",
    "inps = [1,2,5,3,4]\n",
    "\n",
    "\n",
    "for inp in inps:\n",
    "  \n",
    "  while (v <= inp):\n",
    "    stack.append(v)\n",
    "    result.append(\"+\")\n",
    "    v +=1\n",
    "  \n",
    "  if stack[-1] == inp:\n",
    "    stack.pop()\n",
    "    result.append(\"-\")\n",
    "  else:\n",
    "    result = \"NO\"\n",
    "    break\n",
    "\n",
    "print(\"\\n\".join(result))\n",
    "\n",
    "  \n",
    "\n"
   ]
  },
  {
   "cell_type": "code",
   "execution_count": 7,
   "metadata": {},
   "outputs": [
    {
     "name": "stdout",
     "output_type": "stream",
     "text": [
      "[]\n"
     ]
    }
   ],
   "source": [
    "import sys\n",
    "\n",
    "n = sys.stdin.readline()\n",
    "\n",
    "\n",
    "v = 1\n",
    "stack = []\n",
    "result = []\n",
    "\n",
    "for _ in range(int(n)):\n",
    "  inp = int(sys.stdin.readline())\n",
    "  \n",
    "  while (v <= inp):\n",
    "    stack.append(v)\n",
    "    result.append(\"+\")\n",
    "    v += 1\n",
    "\n",
    "  if stack[-1] == inp:\n",
    "    stack.pop()\n",
    "    result.append(\"-\")\n",
    "  else:\n",
    "    result=[]\n",
    "    break\n",
    "  \n",
    "if len(result) > 0:\n",
    "  print(\"\\n\".join(result))\n",
    "else:\n",
    "  print(\"NO\")\n"
   ]
  },
  {
   "cell_type": "code",
   "execution_count": null,
   "metadata": {},
   "outputs": [],
   "source": []
  }
 ],
 "metadata": {
  "interpreter": {
   "hash": "5b4ef438da31eb5efe9ee29e76760efb89b957f2454bf1969c25d74ab4d2c9ff"
  },
  "kernelspec": {
   "display_name": "Python 3.9.0 64-bit ('3.9.0': pyenv)",
   "language": "python",
   "name": "python3"
  },
  "language_info": {
   "codemirror_mode": {
    "name": "ipython",
    "version": 3
   },
   "file_extension": ".py",
   "mimetype": "text/x-python",
   "name": "python",
   "nbconvert_exporter": "python",
   "pygments_lexer": "ipython3",
   "version": "3.9.0"
  },
  "orig_nbformat": 4
 },
 "nbformat": 4,
 "nbformat_minor": 2
}
