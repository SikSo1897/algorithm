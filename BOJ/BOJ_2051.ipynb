{
 "cells": [
  {
   "cell_type": "code",
   "execution_count": null,
   "metadata": {},
   "outputs": [],
   "source": [
    "# https://www.acmicpc.net/problem/2501"
   ]
  },
  {
   "cell_type": "code",
   "execution_count": 22,
   "metadata": {},
   "outputs": [
    {
     "name": "stdout",
     "output_type": "stream",
     "text": [
      "0\n"
     ]
    }
   ],
   "source": [
    "import sys\n",
    "\n",
    "# n=6\n",
    "# k=3\n",
    "\n",
    "lst = [False for _ in range(n)]\n",
    "\n",
    "\n",
    "def doing(n, k):  \n",
    "  curr = 0\n",
    "  \n",
    "  for i in range(1, n+1):\n",
    "    \n",
    "    if n%i == 0 :\n",
    "      curr = curr +1\n",
    "      \n",
    "    if curr == k:\n",
    "      return i\n",
    "    \n",
    "  return 0  \n",
    "\n",
    "def main():\n",
    "  inp = sys.stdin.readline\n",
    "  n, k = map(int, inp().split())\n",
    "  rlt = doing(n, k)\n",
    "  print(rlt)\n",
    "\n",
    "main()\n",
    "\n",
    "      "
   ]
  }
 ],
 "metadata": {
  "kernelspec": {
   "display_name": "Python 3 (ipykernel)",
   "language": "python",
   "name": "python3"
  },
  "language_info": {
   "codemirror_mode": {
    "name": "ipython",
    "version": 3
   },
   "file_extension": ".py",
   "mimetype": "text/x-python",
   "name": "python",
   "nbconvert_exporter": "python",
   "pygments_lexer": "ipython3",
   "version": "3.9.10"
  },
  "orig_nbformat": 4
 },
 "nbformat": 4,
 "nbformat_minor": 2
}
